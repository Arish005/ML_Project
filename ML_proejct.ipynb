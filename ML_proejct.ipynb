{
  "nbformat": 4,
  "nbformat_minor": 0,
  "metadata": {
    "colab": {
      "provenance": [],
      "include_colab_link": true
    },
    "kernelspec": {
      "name": "python3",
      "display_name": "Python 3"
    },
    "language_info": {
      "name": "python"
    }
  },
  "cells": [
    {
      "cell_type": "markdown",
      "metadata": {
        "id": "view-in-github",
        "colab_type": "text"
      },
      "source": [
        "<a href=\"https://colab.research.google.com/github/Arish005/ML_Project/blob/main/ML_proejct.ipynb\" target=\"_parent\"><img src=\"https://colab.research.google.com/assets/colab-badge.svg\" alt=\"Open In Colab\"/></a>"
      ]
    },
    {
      "cell_type": "markdown",
      "source": [
        "Write a Python function sum_of_multiples(n) that calculates and returns the sum of all numbers below n that are multiples of 3 or 5. For example, if n = 10, the multiples of 3 or 5 below 10 are 3, 5, 6, and 9, so the function should return 23."
      ],
      "metadata": {
        "id": "HFcNfE7EatyP"
      }
    },
    {
      "cell_type": "markdown",
      "source": [
        "Write a Python function count_vowels(s) that takes a string s as input and returns the count of vowels (a, e, i, o, u) in the string, both lowercase and uppercase."
      ],
      "metadata": {
        "id": "3GqsKzG0hdrT"
      }
    },
    {
      "cell_type": "markdown",
      "source": [
        "Write a Python Function greatest_integer(list,value) that takes in a non-descending list and a value, and returns the largest number smaller than that value in the list."
      ],
      "metadata": {
        "id": "2eh_xAMYipuM"
      }
    },
    {
      "cell_type": "code",
      "source": [
        "def sum_of_multiples(n):\n",
        "    sum = 0\n",
        "    for i in range(n):\n",
        "        if i % 3 == 0 or i % 5 == 0:\n",
        "            sum += i\n",
        "    return sum\n"
      ],
      "metadata": {
        "id": "2Lfvu07MhfM2"
      },
      "execution_count": null,
      "outputs": []
    },
    {
      "cell_type": "code",
      "source": [
        "# Install necessary libraries\n",
        "!pip install matplotlib deap"
      ],
      "metadata": {
        "id": "ClkCAiRMLY_h",
        "outputId": "a84aeeed-c913-414c-f615-3f3f9a0ded10",
        "colab": {
          "base_uri": "https://localhost:8080/"
        }
      },
      "execution_count": null,
      "outputs": [
        {
          "output_type": "stream",
          "name": "stdout",
          "text": [
            "Requirement already satisfied: matplotlib in /usr/local/lib/python3.10/dist-packages (3.8.0)\n",
            "Collecting deap\n",
            "  Downloading deap-1.4.1-cp310-cp310-manylinux_2_5_x86_64.manylinux1_x86_64.manylinux_2_17_x86_64.manylinux2014_x86_64.whl.metadata (13 kB)\n",
            "Requirement already satisfied: contourpy>=1.0.1 in /usr/local/lib/python3.10/dist-packages (from matplotlib) (1.3.1)\n",
            "Requirement already satisfied: cycler>=0.10 in /usr/local/lib/python3.10/dist-packages (from matplotlib) (0.12.1)\n",
            "Requirement already satisfied: fonttools>=4.22.0 in /usr/local/lib/python3.10/dist-packages (from matplotlib) (4.55.3)\n",
            "Requirement already satisfied: kiwisolver>=1.0.1 in /usr/local/lib/python3.10/dist-packages (from matplotlib) (1.4.7)\n",
            "Requirement already satisfied: numpy<2,>=1.21 in /usr/local/lib/python3.10/dist-packages (from matplotlib) (1.26.4)\n",
            "Requirement already satisfied: packaging>=20.0 in /usr/local/lib/python3.10/dist-packages (from matplotlib) (24.2)\n",
            "Requirement already satisfied: pillow>=6.2.0 in /usr/local/lib/python3.10/dist-packages (from matplotlib) (11.0.0)\n",
            "Requirement already satisfied: pyparsing>=2.3.1 in /usr/local/lib/python3.10/dist-packages (from matplotlib) (3.2.0)\n",
            "Requirement already satisfied: python-dateutil>=2.7 in /usr/local/lib/python3.10/dist-packages (from matplotlib) (2.8.2)\n",
            "Requirement already satisfied: six>=1.5 in /usr/local/lib/python3.10/dist-packages (from python-dateutil>=2.7->matplotlib) (1.17.0)\n",
            "Downloading deap-1.4.1-cp310-cp310-manylinux_2_5_x86_64.manylinux1_x86_64.manylinux_2_17_x86_64.manylinux2014_x86_64.whl (135 kB)\n",
            "\u001b[2K   \u001b[90m━━━━━━━━━━━━━━━━━━━━━━━━━━━━━━━━━━━━━━━━\u001b[0m \u001b[32m135.4/135.4 kB\u001b[0m \u001b[31m3.7 MB/s\u001b[0m eta \u001b[36m0:00:00\u001b[0m\n",
            "\u001b[?25hInstalling collected packages: deap\n",
            "Successfully installed deap-1.4.1\n"
          ]
        }
      ]
    },
    {
      "cell_type": "code",
      "source": [
        "import random\n",
        "import numpy as np\n",
        "import matplotlib.pyplot as plt\n",
        "from deap import base, creator, tools, algorithms"
      ],
      "metadata": {
        "id": "v0QjJDN2LdDw"
      },
      "execution_count": null,
      "outputs": []
    },
    {
      "cell_type": "code",
      "source": [
        "# Define the maze\n",
        "maze = [\n",
        "    [0, 0, 0, 1, 1, 1, 1, 1, 1, 1, 1, 1, 1, 1, 0],\n",
        "    [0, 0, 0, 0, 0, 0, 0, 0, 0, 0, 0, 0, 0, 1, 0],\n",
        "    [0, 0, 0, 0, 0, 0, 0, 0, 0, 0, 0, 0, 0, 1, 0],\n",
        "    [1, 1, 0, 0, 0, 0, 0, 0, 0, 0, 0, 0, 0, 1, 0],\n",
        "    [1, 1, 1, 1, 1, 1, 1, 1, 1, 1, 0, 0, 0, 1, 0],\n",
        "    [1, 1, 1, 1, 1, 1, 1, 1, 1, 0, 0, 0, 0, 1, 0],\n",
        "    [1, 1, 1, 1, 1, 1, 1, 1, 0, 0, 0, 0, 0, 0, 0],\n",
        "    [1, 1, 1, 1, 1, 1, 1, 0, 0, 0, 0, 0, 0, 0, 0],\n",
        "    [1, 1, 1, 1, 1, 1, 0, 0, 0, 0, 0, 0, 0, 0, 0],\n",
        "    [1, 1, 1, 1, 1, 0, 0, 0, 0, 1, 1, 1, 1, 0, 0],\n",
        "    [1, 1, 1, 1, 0, 0, 0, 0, 0, 1, 1, 1, 1, 0, 0],\n",
        "    [1, 1, 1, 0, 0, 0, 0, 0, 0, 0, 0, 0, 0, 0, 0],\n",
        "    [1, 1, 0, 0, 1, 1, 1, 0, 0, 0, 0, 0, 0, 0, 0],\n",
        "    [1, 0, 0, 1, 1, 1, 1, 1, 1, 1, 1, 1, 0, 0, 0],\n",
        "    [0, 0, 1, 1, 1, 1, 1, 1, 1, 1, 1, 1, 0, 0, 0]\n",
        "]\n",
        "\n",
        "# Start and end points\n",
        "start, end = (0, 0), (len(maze)-1, len(maze[0])-1)"
      ],
      "metadata": {
        "id": "2Csu8o16LdT1"
      },
      "execution_count": null,
      "outputs": []
    },
    {
      "cell_type": "code",
      "source": [
        "# Genetic Algorithm setup\n",
        "creator.create(\"FitnessMin\", base.Fitness, weights=(-1.0,))\n",
        "creator.create(\"Individual\", list, fitness=creator.FitnessMin)\n",
        "\n",
        "toolbox = base.Toolbox()\n",
        "toolbox.register(\"attr_direction\", random.choice, ['U', 'D', 'L', 'R'])\n",
        "toolbox.register(\"individual\", tools.initRepeat, creator.Individual, toolbox.attr_direction, n=100)\n",
        "toolbox.register(\"population\", tools.initRepeat, list, toolbox.individual)"
      ],
      "metadata": {
        "id": "KHUQsU7KLdWt"
      },
      "execution_count": null,
      "outputs": []
    },
    {
      "cell_type": "code",
      "source": [
        "# Genetic Algorithm setup\n",
        "creator.create(\"FitnessMin\", base.Fitness, weights=(-1.0,))\n",
        "creator.create(\"Individual\", list, fitness=creator.FitnessMin)\n",
        "\n",
        "toolbox = base.Toolbox()\n",
        "toolbox.register(\"attr_direction\", random.choice, ['U', 'D', 'L', 'R'])\n",
        "toolbox.register(\"individual\", tools.initRepeat, creator.Individual, toolbox.attr_direction, n=100)\n",
        "toolbox.register(\"population\", tools.initRepeat, list, toolbox.individual)"
      ],
      "metadata": {
        "id": "K4k547lDLnhk"
      },
      "execution_count": null,
      "outputs": []
    },
    {
      "cell_type": "code",
      "source": [
        "def custom_mutate(individual, indpb=0.2):\n",
        "    directions = ['U', 'D', 'L', 'R']\n",
        "    for i in range(len(individual)):\n",
        "        if random.random() < indpb:\n",
        "            # Exclude the current direction to ensure mutation changes the gene\n",
        "            possible_directions = [d for d in directions if d != individual[i]]\n",
        "            individual[i] = random.choice(possible_directions)\n",
        "    return individual,"
      ],
      "metadata": {
        "id": "MU6-U4jZLtwW"
      },
      "execution_count": null,
      "outputs": []
    },
    {
      "cell_type": "code",
      "source": [
        "def evaluate(individual):\n",
        "    x, y = start\n",
        "    for move in individual:\n",
        "        # Move up, down, left, or right while checking boundaries\n",
        "        if move == 'U': y = max(0, y - 1)\n",
        "        elif move == 'D': y = min(len(maze) - 1, y + 1)\n",
        "        elif move == 'L': x = max(0, x - 1)\n",
        "        elif move == 'R': x = min(len(maze[0]) - 1, x + 1)\n",
        "\n",
        "        # Check if the current position is the end goal\n",
        "        if (x, y) == end:\n",
        "            return (0,)  # Perfect score since we reached the end\n",
        "\n",
        "        # Check if the current position is a wall\n",
        "        if maze[y][x] == 1:\n",
        "            break\n",
        "\n",
        "    # Return the Manhattan distance to the end point as the score\n",
        "    return (abs(end[0] - x) + abs(end[1] - y),)"
      ],
      "metadata": {
        "id": "qh1WZU2MN36H"
      },
      "execution_count": null,
      "outputs": []
    },
    {
      "cell_type": "code",
      "source": [
        "toolbox.register(\"evaluate\", evaluate)\n",
        "toolbox.register(\"select\", tools.selTournament, tournsize=3)\n",
        "toolbox.register(\"mate\", tools.cxUniform, indpb=0.5)\n",
        "toolbox.register(\"mutate\", custom_mutate, indpb=0.2)"
      ],
      "metadata": {
        "id": "471034oGLuDF"
      },
      "execution_count": null,
      "outputs": []
    },
    {
      "cell_type": "code",
      "source": [
        "def custom_mutate(individual, indpb=0.2):\n",
        "    directions = ['U', 'D', 'L', 'R']\n",
        "    for i in range(len(individual)):\n",
        "        if random.random() < indpb:\n",
        "            # Exclude the current direction to ensure mutation changes the gene\n",
        "            possible_directions = [d for d in directions if d != individual[i]]\n",
        "            individual[i] = random.choice(possible_directions)\n",
        "    return individual,"
      ],
      "metadata": {
        "id": "BYgZ6Xgrrg3D"
      },
      "execution_count": null,
      "outputs": []
    },
    {
      "cell_type": "code",
      "source": [
        "toolbox.register(\"evaluate\", evaluate)\n",
        "toolbox.register(\"select\", tools.selTournament, tournsize=3)\n",
        "toolbox.register(\"mate\", tools.cxUniform, indpb=0.5)\n",
        "toolbox.register(\"mutate\", custom_mutate, indpb=0.2)"
      ],
      "metadata": {
        "id": "j8Xo2NM2N87P"
      },
      "execution_count": null,
      "outputs": []
    },
    {
      "cell_type": "code",
      "source": [
        "# Function to visualize the maze and path\n",
        "def plot_path(individual):\n",
        "    x, y = start\n",
        "    plt.plot(x, y, \"go\")  # start point\n",
        "    for move in individual:\n",
        "        # Attempt the move\n",
        "        next_x, next_y = x, y\n",
        "        if move == 'U': next_y = max(0, y - 1)\n",
        "        elif move == 'D': next_y = min(len(maze) - 1, y + 1)\n",
        "        elif move == 'L': next_x = max(0, x - 1)\n",
        "        elif move == 'R': next_x = min(len(maze[0]) - 1, x + 1)\n",
        "\n",
        "        # Check for wall collision before plotting the move\n",
        "        if maze[next_y][next_x] == 1 or (next_x, next_y) == end: break\n",
        "        # No collision, so make the move and plot it\n",
        "        x, y = next_x, next_y\n",
        "        plt.plot(x, y, \"bo\")\n",
        "\n",
        "    plt.plot(end[0], end[1], \"ro\")  # end point\n",
        "    plt.imshow(maze, cmap=\"binary\")\n",
        "    plt.show()"
      ],
      "metadata": {
        "id": "2XTohL9hN89x"
      },
      "execution_count": null,
      "outputs": []
    },
    {
      "cell_type": "code",
      "source": [
        "# Run the genetic algorithm\n",
        "def run_ga(generations=2000, pop_size=50):\n",
        "    pop = toolbox.population(n=pop_size)\n",
        "    best_individuals = []\n",
        "    for gen in range(generations):\n",
        "        offspring = algorithms.varAnd(pop, toolbox, cxpb=0.5, mutpb=0.2)\n",
        "        fits = toolbox.map(toolbox.evaluate, offspring)\n",
        "        for fit, ind in zip(fits, offspring):\n",
        "            ind.fitness.values = fit\n",
        "        pop = toolbox.select(offspring, k=len(pop))\n",
        "        top_individual = tools.selBest(pop, k=1)[0]\n",
        "        best_individuals.append(top_individual)\n",
        "\n",
        "        if gen in [2, 10, 50, 100, 500] or gen == generations - 1:\n",
        "            print(f\"Generation {gen}:\")\n",
        "            plot_path(top_individual)"
      ],
      "metadata": {
        "id": "eUQzWIqAN9AV"
      },
      "execution_count": null,
      "outputs": []
    },
    {
      "cell_type": "code",
      "source": [
        "run_ga()"
      ],
      "metadata": {
        "id": "YfqpqAiKN9Cc",
        "outputId": "33d33a48-578d-4394-d071-c3453f17f56f",
        "colab": {
          "base_uri": "https://localhost:8080/",
          "height": 1000
        }
      },
      "execution_count": null,
      "outputs": [
        {
          "output_type": "stream",
          "name": "stdout",
          "text": [
            "Generation 2:\n"
          ]
        },
        {
          "output_type": "display_data",
          "data": {
            "text/plain": [
              "<Figure size 640x480 with 1 Axes>"
            ],
            "image/png": "[encoded data removed]"
          },
          "metadata": {}
        },
        {
          "output_type": "stream",
          "name": "stdout",
          "text": [
            "Generation 10:\n"
          ]
        },
        {
          "output_type": "display_data",
          "data": {
            "text/plain": [
              "<Figure size 640x480 with 1 Axes>"
            ],
            "image/png": "[encoded data removed]"
          },
          "metadata": {}
        },
        {
          "output_type": "stream",
          "name": "stdout",
          "text": [
            "Generation 50:\n"
          ]
        },
        {
          "output_type": "display_data",
          "data": {
            "text/plain": [
              "<Figure size 640x480 with 1 Axes>"
            ],
            "image/png": "[encoded data removed]"
          },
          "metadata": {}
        },
        {
          "output_type": "stream",
          "name": "stdout",
          "text": [
            "Generation 100:\n"
          ]
        },
        {
          "output_type": "display_data",
          "data": {
            "text/plain": [
              "<Figure size 640x480 with 1 Axes>"
            ],
            "image/png": "[encoded data removed]"
          },
          "metadata": {}
        },
        {
          "output_type": "stream",
          "name": "stdout",
          "text": [
            "Generation 500:\n"
          ]
        },
        {
          "output_type": "display_data",
          "data": {
            "text/plain": [
              "<Figure size 640x480 with 1 Axes>"
            ],
            "image/png": "[encoded data removed]"
          },
          "metadata": {}
        },
        {
          "output_type": "stream",
          "name": "stdout",
          "text": [
            "Generation 1999:\n"
          ]
        },
        {
          "output_type": "display_data",
          "data": {
            "text/plain": [
              "<Figure size 640x480 with 1 Axes>"
            ],
            "image/png": "[encoded data removed]"
          },
          "metadata": {}
        }
      ]
    },
    {
      "cell_type": "markdown",
      "source": [
        "TASK"
      ],
      "metadata": {
        "id": "6IpIus3ZRCEJ"
      }
    },
    {
      "cell_type": "code",
      "execution_count": 16,
      "metadata": {
        "id": "5puGjqHgMnx9",
        "colab": {
          "base_uri": "https://localhost:8080/"
        },
        "outputId": "6f11aeb9-83cb-44f7-88b8-57e2a1458fa1"
      },
      "outputs": [
        {
          "output_type": "stream",
          "name": "stdout",
          "text": [
            "Requirement already satisfied: matplotlib in /usr/local/lib/python3.10/dist-packages (3.10.0)\n",
            "Requirement already satisfied: deap in /usr/local/lib/python3.10/dist-packages (1.4.1)\n",
            "Requirement already satisfied: contourpy>=1.0.1 in /usr/local/lib/python3.10/dist-packages (from matplotlib) (1.3.1)\n",
            "Requirement already satisfied: cycler>=0.10 in /usr/local/lib/python3.10/dist-packages (from matplotlib) (0.12.1)\n",
            "Requirement already satisfied: fonttools>=4.22.0 in /usr/local/lib/python3.10/dist-packages (from matplotlib) (4.55.3)\n",
            "Requirement already satisfied: kiwisolver>=1.3.1 in /usr/local/lib/python3.10/dist-packages (from matplotlib) (1.4.8)\n",
            "Requirement already satisfied: numpy>=1.23 in /usr/local/lib/python3.10/dist-packages (from matplotlib) (1.26.4)\n",
            "Requirement already satisfied: packaging>=20.0 in /usr/local/lib/python3.10/dist-packages (from matplotlib) (24.2)\n",
            "Requirement already satisfied: pillow>=8 in /usr/local/lib/python3.10/dist-packages (from matplotlib) (11.1.0)\n",
            "Requirement already satisfied: pyparsing>=2.3.1 in /usr/local/lib/python3.10/dist-packages (from matplotlib) (3.2.1)\n",
            "Requirement already satisfied: python-dateutil>=2.7 in /usr/local/lib/python3.10/dist-packages (from matplotlib) (2.8.2)\n",
            "Requirement already satisfied: six>=1.5 in /usr/local/lib/python3.10/dist-packages (from python-dateutil>=2.7->matplotlib) (1.17.0)\n"
          ]
        }
      ],
      "source": [
        "#TASK 1 - Install matplotlib and deap\n",
        "#       - Import all necessary libraries\n",
        "!pip install matplotlib deap"
      ]
    },
    {
      "cell_type": "code",
      "source": [
        "import random\n",
        "import matplotlib.pyplot as plt\n",
        "from deap import base, creator, tools, algorithms"
      ],
      "metadata": {
        "id": "t8LTVAl4RNhw"
      },
      "execution_count": 17,
      "outputs": []
    },
    {
      "cell_type": "code",
      "source": [
        "\n",
        "\n",
        "num_locations = 10\n",
        "locations = [(random.randint(0, 100), random.randint(0, 100)) for _ in range(num_locations)]\n",
        "\n",
        "depot = (50, 50)\n",
        "\n",
        "\n",
        "num_vehicles = 3\n",
        "\n",
        "print(\"Number of locations:\", num_locations)\n",
        "print(\"Locations:\", locations)\n",
        "print(\"Depot:\", depot)\n",
        "print(\"Number of vehicles:\", num_vehicles)\n"
      ],
      "metadata": {
        "id": "KWk2KjnBP1Vw",
        "colab": {
          "base_uri": "https://localhost:8080/"
        },
        "outputId": "97758910-3ce8-4e4a-ab62-fb8468fe9c5f"
      },
      "execution_count": 18,
      "outputs": [
        {
          "output_type": "stream",
          "name": "stdout",
          "text": [
            "Number of locations: 10\n",
            "Locations: [(84, 42), (48, 34), (9, 96), (43, 81), (10, 3), (10, 34), (61, 5), (64, 75), (86, 34), (80, 47)]\n",
            "Depot: (50, 50)\n",
            "Number of vehicles: 3\n"
          ]
        }
      ]
    },
    {
      "cell_type": "code",
      "source": [
        "from deap import base, creator, tools\n",
        "creator.create(\"FitnessMin\", base.Fitness, weights=(-1.0,))\n",
        "creator.create(\"Individual\", list, fitness=creator.FitnessMin)\n",
        "toolbox = base.Toolbox()\n",
        "toolbox.register(\"attr_location\", random.randint, 0, num_locations - 1)\n",
        "toolbox.register(\"individual\", tools.initRepeat, creator.Individual,\n",
        "                 toolbox.attr_location, n=num_locations)\n",
        "toolbox.register(\"population\", tools.initRepeat, list, toolbox.individual)\n",
        "\n"
      ],
      "metadata": {
        "id": "qDYIeW5VM0oB"
      },
      "execution_count": 19,
      "outputs": []
    },
    {
      "cell_type": "code",
      "source": [
        "from deap import tools\n",
        "\n",
        "\n",
        "toolbox = base.Toolbox()\n",
        "\n",
        "toolbox.register(\"indices\", random.sample, range(num_locations), num_locations)\n",
        "\n",
        "toolbox.register(\"individual\", tools.initIterate, creator.Individual, toolbox.indices)\n",
        "\n",
        "\n",
        "toolbox.register(\"population\", tools.initRepeat, list, toolbox.individual)\n",
        "\n"
      ],
      "metadata": {
        "id": "sokKSbcMM0uS"
      },
      "execution_count": 20,
      "outputs": []
    },
    {
      "cell_type": "code",
      "source": [
        "def evalVRP(individual):\n",
        "\n",
        "    total_distance = 0\n",
        "    route_lengths = []\n",
        "\n",
        "    current_route = []\n",
        "    for location in individual:\n",
        "        current_route.append(location)\n",
        "\n",
        "        if len(current_route) > 1:\n",
        "            for i in range(len(current_route) - 1):\n",
        "                total_distance += distance(current_route[i], current_route[i + 1])\n",
        "\n",
        "        if some_route_ending_condition:\n",
        "            route_lengths.append(calculate_route_length(current_route))\n",
        "            current_route = []\n",
        "\n",
        "    std_dev = np.std(route_lengths)\n",
        "\n",
        "    return total_distance, std_dev\n"
      ],
      "metadata": {
        "id": "Mzwzzb04M00o"
      },
      "execution_count": 21,
      "outputs": []
    },
    {
      "cell_type": "code",
      "source": [
        "pip install deap"
      ],
      "metadata": {
        "colab": {
          "base_uri": "https://localhost:8080/"
        },
        "id": "FsKW-afQKmXt",
        "outputId": "9b1e15aa-c5ca-4191-b78d-4d6129d03a0d"
      },
      "execution_count": 22,
      "outputs": [
        {
          "output_type": "stream",
          "name": "stdout",
          "text": [
            "Requirement already satisfied: deap in /usr/local/lib/python3.10/dist-packages (1.4.1)\n",
            "Requirement already satisfied: numpy in /usr/local/lib/python3.10/dist-packages (from deap) (1.26.4)\n"
          ]
        }
      ]
    },
    {
      "cell_type": "code",
      "source": [
        "pip install toolbox"
      ],
      "metadata": {
        "colab": {
          "base_uri": "https://localhost:8080/"
        },
        "id": "MZsDbT75Kq75",
        "outputId": "66c6abdb-e54f-4440-a9f5-d3af2125bc9f"
      },
      "execution_count": 23,
      "outputs": [
        {
          "output_type": "stream",
          "name": "stdout",
          "text": [
            "Requirement already satisfied: toolbox in /usr/local/lib/python3.10/dist-packages (1.11.0)\n"
          ]
        }
      ]
    },
    {
      "cell_type": "code",
      "source": [
        "from deap import tools\n",
        "toolbox.register(\"mate\", tools.cxTwoPoint)\n",
        "toolbox.register(\"mutate\", tools.mutGaussian, mu=0, sigma=1, indpb=0.2)\n",
        "toolbox.register(\"select\", tools.selTournament, tournsize=3)\n"
      ],
      "metadata": {
        "id": "afSMYDgqM05b"
      },
      "execution_count": 24,
      "outputs": []
    },
    {
      "cell_type": "code",
      "source": [
        "pip install --upgrade pip\n"
      ],
      "metadata": {
        "id": "hkPB3xMuM1C1",
        "colab": {
          "base_uri": "https://localhost:8080/"
        },
        "outputId": "de934e0d-faa4-40c0-c819-9aaa0a043d7b"
      },
      "execution_count": 25,
      "outputs": [
        {
          "output_type": "stream",
          "name": "stdout",
          "text": [
            "Requirement already satisfied: pip in /usr/local/lib/python3.10/dist-packages (24.3.1)\n"
          ]
        }
      ]
    },
    {
      "cell_type": "code",
      "source": [
        "from deap import base, tools\n",
        "\n",
        "toolbox = base.Toolbox()\n",
        "toolbox.register(\"mate\", tools.cxTwoPoint)\n",
        "toolbox.register(\"mutate\", tools.mutGaussian, mu=0, sigma=1, indpb=0.2)\n",
        "toolbox.register(\"select\", tools.selTournament, tournsize=3)\n"
      ],
      "metadata": {
        "id": "rqEKgf3pK4Sr"
      },
      "execution_count": 26,
      "outputs": []
    },
    {
      "cell_type": "code",
      "source": [
        "# SOLUTION - TASK 8\n",
        "def plot_routes(individual, title=\"Routes\"):\n",
        "    plt.figure()\n",
        "    # Plot locations as blue dots and the depot as a red square\n",
        "    for (x, y) in locations:\n",
        "        plt.plot(x, y, 'bo')\n",
        "    plt.plot(depot[0], depot[1], 'rs')\n",
        "\n",
        "    # Draw routes for each vehicle\n",
        "    for i in range(num_vehicles):\n",
        "        vehicle_route = [depot] + [locations[individual[j]] for j in range(i, len(individual), num_vehicles)] + [depot]\n",
        "        plt.plot(*zip(*vehicle_route), '-', 'rs')\n",
        "\n",
        "    plt.title(title)\n",
        "    plt.xlabel('X Coordinate')\n",
        "    plt.ylabel('Y Coordinate')\n",
        "    plt.show()"
      ],
      "metadata": {
        "id": "QWWSSE92YNsO"
      },
      "execution_count": 27,
      "outputs": []
    },
    {
      "cell_type": "code",
      "source": [
        "\n",
        "\n",
        "# Define the fitness evaluation function\n",
        "def evaluate(individual):\n",
        "    return sum(individual),  # Example: sum of individual attributes\n",
        "\n",
        "toolbox.register(\"evaluate\", evaluate)\n",
        "\n",
        "# Plot the optimal route (dummy implementation)\n",
        "def plot_routes(individual, title):\n",
        "    print(f\"{title}: {individual}\")\n",
        "\n",
        "# Main function to run the genetic algorithm\n",
        "def main():\n",
        "    random.seed(42)  # Seed for reproducibility\n",
        "    pop = toolbox.population(n=300)  # Generate initial population\n",
        "    hof = tools.HallOfFame(1)  # Hall of Fame to store the best individual\n",
        "\n",
        "    # Setup statistics to track\n",
        "    stats = tools.Statistics(lambda ind: ind.fitness.values)\n",
        "    stats.register(\"avg\", np.mean)\n",
        "    stats.register(\"min\", np.min)\n",
        "\n",
        "    # Run the genetic algorithm\n",
        "    pop, log = algorithms.eaSimple(pop, toolbox, cxpb=0.7, mutpb=0.2, ngen=300, stats=stats, halloffame=hof, verbose=True)\n",
        "\n",
        "    # Plot the best route found\n",
        "    plot_routes(hof[0], \"Optimal Route\")\n",
        "\n",
        "    return pop, stats, hof\n",
        "\n",
        "if __name__ == \"__main__\":\n",
        "    # Call the main function\n",
        "    pop, stats, hof = main()\n",
        "\n",
        "    # Print the best individual and its fitness\n",
        "    print(\"\\nBest Individual:\")\n",
        "    print(hof[0])\n",
        "    print(\"Fitness:\", hof[0].fitness.values)\n",
        "\n",
        "    # Print some statistics from the final population\n",
        "    print(\"\\nAlgorithm Statistics:\")\n",
        "    print(\"Average Fitness:\", stats.compile(pop)['avg'])\n",
        "    print(\"Minimum Fitness:\", stats.compile(pop)['min'])\n"
      ],
      "metadata": {
        "colab": {
          "base_uri": "https://localhost:8080/"
        },
        "id": "T8FkEJKUYOzi",
        "outputId": "e8448717-99c9-4abc-b29c-ddf1fa3f7895"
      },
      "execution_count": 34,
      "outputs": [
        {
          "output_type": "stream",
          "name": "stdout",
          "text": [
            "gen\tnevals\tavg    \tmin    \n",
            "0  \t300   \t5.04308\t2.70518\n",
            "1  \t230   \t4.154  \t-1.28441\n",
            "2  \t230   \t3.34796\t-5.66064\n",
            "3  \t231   \t2.23521\t-5.66064\n",
            "4  \t216   \t0.954773\t-5.7737 \n",
            "5  \t227   \t-0.733299\t-6.54717\n",
            "6  \t220   \t-2.67965 \t-9.27916\n",
            "7  \t218   \t-4.4339  \t-11.2051\n",
            "8  \t227   \t-6.05939 \t-13.0625\n",
            "9  \t229   \t-8.10784 \t-16.7813\n",
            "10 \t238   \t-10.1344 \t-17.8202\n",
            "11 \t232   \t-12.011  \t-18.8584\n",
            "12 \t232   \t-13.9715 \t-20.7768\n",
            "13 \t209   \t-15.8533 \t-23.2734\n",
            "14 \t215   \t-17.7688 \t-24.809 \n",
            "15 \t225   \t-20.1037 \t-29.3281\n",
            "16 \t236   \t-22.29   \t-30.3223\n",
            "17 \t233   \t-24.3416 \t-32.0589\n",
            "18 \t234   \t-26.6121 \t-33.5068\n",
            "19 \t225   \t-28.7557 \t-35.8169\n",
            "20 \t233   \t-30.6959 \t-38.266 \n",
            "21 \t219   \t-32.6465 \t-38.9059\n",
            "22 \t237   \t-34.9584 \t-40.148 \n",
            "23 \t226   \t-36.9488 \t-42.354 \n",
            "24 \t226   \t-38.5785 \t-43.8249\n",
            "25 \t216   \t-40.3099 \t-45.0422\n",
            "26 \t220   \t-41.7987 \t-48.097 \n",
            "27 \t228   \t-43.4754 \t-49.8038\n",
            "28 \t220   \t-45.3498 \t-52.7   \n",
            "29 \t235   \t-47.1382 \t-54.225 \n",
            "30 \t245   \t-49.1132 \t-59.4743\n",
            "31 \t238   \t-51.1991 \t-63.5622\n",
            "32 \t246   \t-53.2358 \t-62.6021\n",
            "33 \t232   \t-55.5541 \t-65.3671\n",
            "34 \t245   \t-58.1801 \t-65.7508\n",
            "35 \t236   \t-60.4528 \t-68.1013\n",
            "36 \t227   \t-62.6981 \t-69.6923\n",
            "37 \t238   \t-64.6614 \t-71.5378\n",
            "38 \t231   \t-66.4689 \t-73.6835\n",
            "39 \t227   \t-68.6604 \t-78.5625\n",
            "40 \t213   \t-70.8088 \t-78.5625\n",
            "41 \t236   \t-72.8112 \t-80.7469\n",
            "42 \t219   \t-75.0444 \t-84.1891\n",
            "43 \t228   \t-77.275  \t-85.8342\n",
            "44 \t223   \t-79.3424 \t-88.3785\n",
            "45 \t213   \t-81.2564 \t-90.1848\n",
            "46 \t232   \t-83.4986 \t-94.0981\n",
            "47 \t211   \t-85.8903 \t-95.9093\n",
            "48 \t235   \t-88.2347 \t-95.9093\n",
            "49 \t240   \t-90.6689 \t-99.3457\n",
            "50 \t246   \t-93.0117 \t-99.6312\n",
            "51 \t234   \t-95.0114 \t-101.658\n",
            "52 \t227   \t-96.8045 \t-102.06 \n",
            "53 \t216   \t-98.5927 \t-107.047\n",
            "54 \t233   \t-100.294 \t-107.047\n",
            "55 \t229   \t-101.87  \t-107.338\n",
            "56 \t229   \t-103.545 \t-110.264\n",
            "57 \t221   \t-105.48  \t-114.762\n",
            "58 \t213   \t-107.317 \t-114.762\n",
            "59 \t237   \t-109.298 \t-117.161\n",
            "60 \t225   \t-111.536 \t-118.384\n",
            "61 \t234   \t-113.701 \t-120.341\n",
            "62 \t221   \t-115.98  \t-123.327\n",
            "63 \t237   \t-118     \t-126.561\n",
            "64 \t226   \t-120.431 \t-128.325\n",
            "65 \t218   \t-122.656 \t-130.178\n",
            "66 \t221   \t-125.202 \t-133.144\n",
            "67 \t233   \t-127.53  \t-137.229\n",
            "68 \t226   \t-129.949 \t-138.847\n",
            "69 \t238   \t-132.545 \t-144.238\n",
            "70 \t228   \t-134.977 \t-144.238\n",
            "71 \t238   \t-137.155 \t-145.276\n",
            "72 \t212   \t-139.252 \t-149.664\n",
            "73 \t231   \t-141.358 \t-149.664\n",
            "74 \t223   \t-143.583 \t-151.381\n",
            "75 \t220   \t-145.844 \t-154.876\n",
            "76 \t224   \t-147.902 \t-154.91 \n",
            "77 \t229   \t-149.944 \t-158.001\n",
            "78 \t222   \t-152.067 \t-160.949\n",
            "79 \t228   \t-154.341 \t-162.639\n",
            "80 \t245   \t-156.712 \t-168.309\n",
            "81 \t228   \t-158.941 \t-168.309\n",
            "82 \t216   \t-161.507 \t-169.14 \n",
            "83 \t226   \t-163.762 \t-171.358\n",
            "84 \t230   \t-166.018 \t-175.261\n",
            "85 \t214   \t-168.325 \t-174.967\n",
            "86 \t219   \t-169.966 \t-175.518\n",
            "87 \t226   \t-171.83  \t-176.83 \n",
            "88 \t233   \t-173.823 \t-181.711\n",
            "89 \t217   \t-175.755 \t-182.301\n",
            "90 \t245   \t-177.767 \t-184.473\n",
            "91 \t238   \t-179.908 \t-187.893\n",
            "92 \t225   \t-181.803 \t-190.586\n",
            "93 \t238   \t-184.06  \t-192.345\n",
            "94 \t228   \t-186.376 \t-195.204\n",
            "95 \t220   \t-188.575 \t-194.936\n",
            "96 \t234   \t-190.611 \t-198.117\n",
            "97 \t235   \t-192.78  \t-203.087\n",
            "98 \t241   \t-195.253 \t-204.004\n",
            "99 \t228   \t-197.862 \t-206.133\n",
            "100\t234   \t-200.466 \t-209.915\n",
            "101\t229   \t-203.165 \t-212.603\n",
            "102\t235   \t-205.702 \t-212.609\n",
            "103\t233   \t-208.056 \t-217.062\n",
            "104\t233   \t-210.134 \t-217.062\n",
            "105\t235   \t-211.833 \t-218.511\n",
            "106\t220   \t-213.636 \t-220.882\n",
            "107\t208   \t-215.445 \t-222.101\n",
            "108\t218   \t-217.322 \t-223.715\n",
            "109\t245   \t-219.434 \t-226.478\n",
            "110\t222   \t-221.308 \t-229.365\n",
            "111\t219   \t-223.028 \t-230.21 \n",
            "112\t228   \t-225.186 \t-232.637\n",
            "113\t224   \t-227.09  \t-236.121\n",
            "114\t230   \t-229.053 \t-235.218\n",
            "115\t229   \t-231.106 \t-238.784\n",
            "116\t227   \t-232.914 \t-240.156\n",
            "117\t207   \t-234.921 \t-240.616\n",
            "118\t238   \t-236.918 \t-243.6  \n",
            "119\t215   \t-238.874 \t-248.207\n",
            "120\t240   \t-240.914 \t-249.544\n",
            "121\t247   \t-242.98  \t-251.804\n",
            "122\t240   \t-245.467 \t-254.923\n",
            "123\t226   \t-248.184 \t-257.841\n",
            "124\t230   \t-250.548 \t-258.527\n",
            "125\t222   \t-253.091 \t-260.037\n",
            "126\t242   \t-255.499 \t-261.68 \n",
            "127\t242   \t-257.53  \t-264.39 \n",
            "128\t215   \t-259.608 \t-267.601\n",
            "129\t221   \t-261.547 \t-268.718\n",
            "130\t223   \t-263.513 \t-268.944\n",
            "131\t236   \t-265.506 \t-271.959\n",
            "132\t238   \t-267.38  \t-274.967\n",
            "133\t209   \t-269.264 \t-275.037\n",
            "134\t216   \t-271.035 \t-279.115\n",
            "135\t228   \t-273.018 \t-280.178\n",
            "136\t222   \t-275.085 \t-281.303\n",
            "137\t227   \t-277.188 \t-284.718\n",
            "138\t221   \t-278.973 \t-285.088\n",
            "139\t228   \t-280.615 \t-287.406\n",
            "140\t237   \t-282.613 \t-290.72 \n",
            "141\t216   \t-284.996 \t-293.004\n",
            "142\t213   \t-287.133 \t-295.35 \n",
            "143\t236   \t-289.273 \t-297.27 \n",
            "144\t224   \t-291.093 \t-296.771\n",
            "145\t254   \t-292.782 \t-298.116\n",
            "146\t237   \t-294.413 \t-299.705\n",
            "147\t234   \t-296.148 \t-304.764\n",
            "148\t229   \t-297.812 \t-305.716\n",
            "149\t226   \t-299.903 \t-309.231\n",
            "150\t227   \t-301.905 \t-311.934\n",
            "151\t239   \t-304.031 \t-312.556\n",
            "152\t234   \t-306.18  \t-316.249\n",
            "153\t219   \t-308.773 \t-316.487\n",
            "154\t216   \t-310.861 \t-318.594\n",
            "155\t229   \t-313.12  \t-319.005\n",
            "156\t227   \t-315.273 \t-321.411\n",
            "157\t242   \t-317.187 \t-322.283\n",
            "158\t228   \t-318.797 \t-325.123\n",
            "159\t224   \t-320.634 \t-327.12 \n",
            "160\t223   \t-322.619 \t-331.836\n",
            "161\t231   \t-324.64  \t-331.755\n",
            "162\t234   \t-326.669 \t-336.941\n",
            "163\t221   \t-328.684 \t-337.506\n",
            "164\t215   \t-331.062 \t-338.954\n",
            "165\t223   \t-333.573 \t-341.726\n",
            "166\t216   \t-335.994 \t-343.473\n",
            "167\t236   \t-338.273 \t-345.656\n",
            "168\t235   \t-340.475 \t-347.466\n",
            "169\t204   \t-342.508 \t-351.386\n",
            "170\t220   \t-344.583 \t-355.301\n",
            "171\t229   \t-346.667 \t-356.09 \n",
            "172\t233   \t-348.547 \t-357.433\n",
            "173\t201   \t-350.91  \t-360    \n",
            "174\t236   \t-353.276 \t-361.482\n",
            "175\t215   \t-355.412 \t-361.908\n",
            "176\t232   \t-357.689 \t-363.832\n",
            "177\t198   \t-359.797 \t-365.6  \n",
            "178\t220   \t-361.593 \t-367.052\n",
            "179\t242   \t-363.342 \t-369.602\n",
            "180\t222   \t-365.309 \t-376.941\n",
            "181\t243   \t-367.333 \t-376.941\n",
            "182\t224   \t-369.078 \t-378.08 \n",
            "183\t220   \t-371.408 \t-380.152\n",
            "184\t251   \t-373.645 \t-381.578\n",
            "185\t247   \t-375.946 \t-383.731\n",
            "186\t238   \t-378.137 \t-386.162\n",
            "187\t233   \t-380.058 \t-387.572\n",
            "188\t234   \t-382.063 \t-389.245\n",
            "189\t247   \t-383.968 \t-391.917\n",
            "190\t231   \t-386.509 \t-394.068\n",
            "191\t225   \t-388.714 \t-397.781\n",
            "192\t220   \t-390.893 \t-400.152\n",
            "193\t212   \t-393.063 \t-400.478\n",
            "194\t231   \t-395.501 \t-403.786\n",
            "195\t227   \t-397.868 \t-403.786\n",
            "196\t211   \t-400.168 \t-404.637\n",
            "197\t229   \t-401.815 \t-406.789\n",
            "198\t213   \t-403.252 \t-409.252\n",
            "199\t225   \t-404.606 \t-410.725\n",
            "200\t241   \t-406.086 \t-412.355\n",
            "201\t226   \t-407.7   \t-414.716\n",
            "202\t219   \t-409.51  \t-415.314\n",
            "203\t227   \t-411.188 \t-416.765\n",
            "204\t222   \t-412.831 \t-418.344\n",
            "205\t241   \t-414.568 \t-421.278\n",
            "206\t226   \t-416.387 \t-424.25 \n",
            "207\t239   \t-418.261 \t-423.884\n",
            "208\t228   \t-420.012 \t-427.717\n",
            "209\t220   \t-421.809 \t-428.11 \n",
            "210\t224   \t-423.627 \t-429.987\n",
            "211\t226   \t-425.476 \t-436.242\n",
            "212\t225   \t-427.602 \t-436.242\n",
            "213\t237   \t-429.847 \t-438.923\n",
            "214\t219   \t-431.991 \t-439.28 \n",
            "215\t225   \t-434.11  \t-441.224\n",
            "216\t219   \t-436.261 \t-443.239\n",
            "217\t226   \t-438.394 \t-444.679\n",
            "218\t231   \t-440.529 \t-447.392\n",
            "219\t232   \t-442.625 \t-452.585\n",
            "220\t228   \t-445.196 \t-454.293\n",
            "221\t225   \t-447.493 \t-456.371\n",
            "222\t236   \t-449.933 \t-458.501\n",
            "223\t237   \t-452.419 \t-460.163\n",
            "224\t222   \t-455.014 \t-462.361\n",
            "225\t227   \t-457.287 \t-464.873\n",
            "226\t214   \t-459.452 \t-466.387\n",
            "227\t226   \t-461.594 \t-468.639\n",
            "228\t224   \t-463.573 \t-471.671\n",
            "229\t230   \t-465.643 \t-473.551\n",
            "230\t238   \t-467.539 \t-475.681\n",
            "231\t237   \t-469.491 \t-477.67 \n",
            "232\t218   \t-471.411 \t-480.067\n",
            "233\t231   \t-473.679 \t-481.615\n",
            "234\t231   \t-475.892 \t-484.249\n",
            "235\t214   \t-478.284 \t-484.809\n",
            "236\t214   \t-480.513 \t-490.106\n",
            "237\t235   \t-482.748 \t-494.195\n",
            "238\t218   \t-484.578 \t-494.195\n",
            "239\t213   \t-486.743 \t-494.384\n",
            "240\t223   \t-489.083 \t-496.826\n",
            "241\t234   \t-491.344 \t-499.083\n",
            "242\t236   \t-493.167 \t-499.645\n",
            "243\t221   \t-495.19  \t-500.465\n",
            "244\t254   \t-496.751 \t-503.393\n",
            "245\t242   \t-498.34  \t-506.486\n",
            "246\t221   \t-500.053 \t-506.486\n",
            "247\t220   \t-501.942 \t-508.804\n",
            "248\t234   \t-503.832 \t-511.286\n",
            "249\t213   \t-505.809 \t-513.57 \n",
            "250\t235   \t-507.949 \t-514.474\n",
            "251\t239   \t-509.906 \t-515.882\n",
            "252\t240   \t-511.815 \t-520.494\n",
            "253\t236   \t-514.235 \t-521.563\n",
            "254\t222   \t-516.601 \t-522.597\n",
            "255\t231   \t-518.697 \t-525.086\n",
            "256\t242   \t-520.706 \t-529.307\n",
            "257\t223   \t-522.888 \t-530.455\n",
            "258\t235   \t-525.382 \t-533.066\n",
            "259\t210   \t-527.288 \t-535.801\n",
            "260\t222   \t-529.706 \t-536.195\n",
            "261\t231   \t-531.707 \t-539.417\n",
            "262\t232   \t-533.785 \t-541.346\n",
            "263\t240   \t-535.694 \t-542.356\n",
            "264\t218   \t-537.687 \t-544.633\n",
            "265\t228   \t-539.517 \t-546.505\n",
            "266\t245   \t-541.68  \t-550.338\n",
            "267\t221   \t-543.866 \t-552.131\n",
            "268\t228   \t-545.701 \t-553.383\n",
            "269\t244   \t-547.575 \t-554.078\n",
            "270\t235   \t-549.427 \t-556.306\n",
            "271\t235   \t-551.345 \t-557.847\n",
            "272\t228   \t-553.349 \t-560.02 \n",
            "273\t234   \t-555.161 \t-561.848\n",
            "274\t225   \t-556.855 \t-563.382\n",
            "275\t235   \t-558.812 \t-565.434\n",
            "276\t233   \t-560.651 \t-567.689\n",
            "277\t234   \t-562.353 \t-568.676\n",
            "278\t210   \t-564.204 \t-570.648\n",
            "279\t233   \t-566.206 \t-573.177\n",
            "280\t215   \t-568.323 \t-577.419\n",
            "281\t226   \t-570.11  \t-577.804\n",
            "282\t234   \t-571.867 \t-578.995\n",
            "283\t223   \t-573.912 \t-581.663\n",
            "284\t233   \t-576.109 \t-585.811\n",
            "285\t221   \t-578.387 \t-586.346\n",
            "286\t227   \t-580.516 \t-587.527\n",
            "287\t239   \t-582.347 \t-589.068\n",
            "288\t240   \t-584.61  \t-590.926\n",
            "289\t246   \t-586.676 \t-592.787\n",
            "290\t215   \t-588.324 \t-593.97 \n",
            "291\t214   \t-590.253 \t-596.472\n",
            "292\t226   \t-591.999 \t-600.039\n",
            "293\t221   \t-593.84  \t-602.193\n",
            "294\t235   \t-595.752 \t-603.879\n",
            "295\t218   \t-597.649 \t-604.404\n",
            "296\t227   \t-599.587 \t-606.268\n",
            "297\t227   \t-601.482 \t-607.961\n",
            "298\t228   \t-603.295 \t-609.791\n",
            "299\t228   \t-605.208 \t-612.869\n",
            "300\t231   \t-606.715 \t-613.359\n",
            "Optimal Route: [-52.481013149173506, -59.48958309750907, -61.165453700240576, -60.36001549480062, -66.45010706517465, -68.37293008151485, -58.68687589027023, -57.233834227464726, -63.204851673724356, -65.91437040567088]\n",
            "\n",
            "Best Individual:\n",
            "[-52.481013149173506, -59.48958309750907, -61.165453700240576, -60.36001549480062, -66.45010706517465, -68.37293008151485, -58.68687589027023, -57.233834227464726, -63.204851673724356, -65.91437040567088]\n",
            "Fitness: (-613.3590347855434,)\n",
            "\n",
            "Algorithm Statistics:\n",
            "Average Fitness: -606.7149345645792\n",
            "Minimum Fitness: -613.3590347855434\n"
          ]
        }
      ]
    }
  ]
}